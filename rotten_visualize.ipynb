{
  "nbformat": 4,
  "nbformat_minor": 0,
  "metadata": {
    "colab": {
      "name": "rotten_visualize.ipynb",
      "version": "0.3.2",
      "provenance": [],
      "collapsed_sections": [],
      "include_colab_link": true
    },
    "kernelspec": {
      "name": "python3",
      "display_name": "Python 3"
    }
  },
  "cells": [
    {
      "cell_type": "markdown",
      "metadata": {
        "id": "view-in-github",
        "colab_type": "text"
      },
      "source": [
        "<a href=\"https://colab.research.google.com/github/hiro21lz/rotten-tomatoes/blob/master/rotten_visualize.ipynb\" target=\"_parent\"><img src=\"https://colab.research.google.com/assets/colab-badge.svg\" alt=\"Open In Colab\"/></a>"
      ]
    },
    {
      "metadata": {
        "id": "mPcqFb_2phZG",
        "colab_type": "code",
        "colab": {
          "base_uri": "https://localhost:8080/",
          "height": 122
        },
        "outputId": "503228da-52b6-41e7-924f-9e4257d05f3e"
      },
      "cell_type": "code",
      "source": [
        "from google.colab import drive\n",
        "drive.mount('/content/drive/')"
      ],
      "execution_count": 2,
      "outputs": [
        {
          "output_type": "stream",
          "text": [
            "Go to this URL in a browser: https://accounts.google.com/o/oauth2/auth?client_id=947318989803-6bn6qk8qdgf4n4g3pfee6491hc0brc4i.apps.googleusercontent.com&redirect_uri=urn%3Aietf%3Awg%3Aoauth%3A2.0%3Aoob&scope=email%20https%3A%2F%2Fwww.googleapis.com%2Fauth%2Fdocs.test%20https%3A%2F%2Fwww.googleapis.com%2Fauth%2Fdrive%20https%3A%2F%2Fwww.googleapis.com%2Fauth%2Fdrive.photos.readonly%20https%3A%2F%2Fwww.googleapis.com%2Fauth%2Fpeopleapi.readonly&response_type=code\n",
            "\n",
            "Enter your authorization code:\n",
            "··········\n",
            "Mounted at /content/drive/\n"
          ],
          "name": "stdout"
        }
      ]
    },
    {
      "metadata": {
        "id": "u-yXPxOtj1G8",
        "colab_type": "text"
      },
      "cell_type": "markdown",
      "source": [
        "# Input datas\n",
        "\n",
        "There datas are got by scrayping with beautiful soup. The datas are divided\n",
        "6 files. To reduce data size, the data is limited only 1st pages in each reviewer page. So maximum reviewes per each reviewer is 50. I will show the details seperately."
      ]
    },
    {
      "metadata": {
        "id": "mMaj5-DspmS2",
        "colab_type": "code",
        "colab": {
          "base_uri": "https://localhost:8080/",
          "height": 102
        },
        "outputId": "e875fb0b-648d-4bbe-8a6a-83ef301fbd2e"
      },
      "cell_type": "code",
      "source": [
        "!ls '/content/drive/My Drive/Colab Notebooks/rottenntomatos'"
      ],
      "execution_count": 3,
      "outputs": [
        {
          "output_type": "stream",
          "text": [
            "movie_review_01.csv  movie_review_06.csv    rottenTomato_03.ipynb\n",
            "movie_review_02.csv  preprocessing2.ipynb   rottenTomato_04.ipynb\n",
            "movie_review_03.csv  preprocessing.ipynb    rottenTomato_05.ipynb\n",
            "movie_review_04.csv  rottenTomato_01.ipynb  rottenTomato_06.ipynb\n",
            "movie_review_05.csv  rottenTomato_02.ipynb  rottenTomato1.ipynb\n"
          ],
          "name": "stdout"
        }
      ]
    },
    {
      "metadata": {
        "id": "1PEteUbhp3wn",
        "colab_type": "code",
        "colab": {
          "base_uri": "https://localhost:8080/",
          "height": 204
        },
        "outputId": "8afb5fbc-53ef-4504-de5a-9a04acfc64d3"
      },
      "cell_type": "code",
      "source": [
        "import pandas as pd\n",
        "import numpy as np\n",
        "import matplotlib.pyplot as plt\n",
        "\n",
        "DIR = '/content/drive/My Drive/Colab Notebooks/rottenntomatos/'\n",
        "\n",
        "df1 = pd.read_csv(DIR + 'movie_review_01.csv',sep='\\t')\n",
        "df2 = pd.read_csv(DIR + 'movie_review_02.csv',sep='\\t')\n",
        "df3 = pd.read_csv(DIR + 'movie_review_03.csv',sep='\\t')\n",
        "df4 = pd.read_csv(DIR + 'movie_review_04.csv',sep='\\t')\n",
        "df5 = pd.read_csv(DIR + 'movie_review_05.csv',sep='\\t')\n",
        "df6 = pd.read_csv(DIR + 'movie_review_06.csv',sep='\\t')\n",
        "\n",
        "# connect dataframes\n",
        "df = pd.concat([df1, df2, df3, df4, df5, df6])\n",
        "df.head()"
      ],
      "execution_count": 5,
      "outputs": [
        {
          "output_type": "execute_result",
          "data": {
            "text/html": [
              "<div>\n",
              "<style scoped>\n",
              "    .dataframe tbody tr th:only-of-type {\n",
              "        vertical-align: middle;\n",
              "    }\n",
              "\n",
              "    .dataframe tbody tr th {\n",
              "        vertical-align: top;\n",
              "    }\n",
              "\n",
              "    .dataframe thead th {\n",
              "        text-align: right;\n",
              "    }\n",
              "</style>\n",
              "<table border=\"1\" class=\"dataframe\">\n",
              "  <thead>\n",
              "    <tr style=\"text-align: right;\">\n",
              "      <th></th>\n",
              "      <th>Unnamed: 0</th>\n",
              "      <th>Reviewer</th>\n",
              "      <th>Title</th>\n",
              "      <th>Rate</th>\n",
              "    </tr>\n",
              "  </thead>\n",
              "  <tbody>\n",
              "    <tr>\n",
              "      <th>0</th>\n",
              "      <td>0</td>\n",
              "      <td>Alex Abad-Santos                              ...</td>\n",
              "      <td>Crazy Rich Asians (2018)</td>\n",
              "      <td>1</td>\n",
              "    </tr>\n",
              "    <tr>\n",
              "      <th>1</th>\n",
              "      <td>1</td>\n",
              "      <td>Alex Abad-Santos                              ...</td>\n",
              "      <td>Ant-Man and the Wasp (2018)</td>\n",
              "      <td>1</td>\n",
              "    </tr>\n",
              "    <tr>\n",
              "      <th>2</th>\n",
              "      <td>2</td>\n",
              "      <td>Alex Abad-Santos                              ...</td>\n",
              "      <td>Ocean's 8 (2018)</td>\n",
              "      <td>1</td>\n",
              "    </tr>\n",
              "    <tr>\n",
              "      <th>3</th>\n",
              "      <td>3</td>\n",
              "      <td>Alex Abad-Santos                              ...</td>\n",
              "      <td>Deadpool 2 (2018)</td>\n",
              "      <td>1</td>\n",
              "    </tr>\n",
              "    <tr>\n",
              "      <th>4</th>\n",
              "      <td>4</td>\n",
              "      <td>Alex Abad-Santos                              ...</td>\n",
              "      <td>Avengers: Infinity War (2018)</td>\n",
              "      <td>1</td>\n",
              "    </tr>\n",
              "  </tbody>\n",
              "</table>\n",
              "</div>"
            ],
            "text/plain": [
              "   Unnamed: 0                                           Reviewer  \\\n",
              "0           0  Alex Abad-Santos                              ...   \n",
              "1           1  Alex Abad-Santos                              ...   \n",
              "2           2  Alex Abad-Santos                              ...   \n",
              "3           3  Alex Abad-Santos                              ...   \n",
              "4           4  Alex Abad-Santos                              ...   \n",
              "\n",
              "                           Title  Rate  \n",
              "0       Crazy Rich Asians (2018)     1  \n",
              "1    Ant-Man and the Wasp (2018)     1  \n",
              "2               Ocean's 8 (2018)     1  \n",
              "3              Deadpool 2 (2018)     1  \n",
              "4  Avengers: Infinity War (2018)     1  "
            ]
          },
          "metadata": {
            "tags": []
          },
          "execution_count": 5
        }
      ]
    },
    {
      "metadata": {
        "id": "HEMSSNVo_ma8",
        "colab_type": "text"
      },
      "cell_type": "markdown",
      "source": [
        "# Visualizing data\n",
        "Let me show how many reviewers review movies."
      ]
    },
    {
      "metadata": {
        "id": "TTxsgnwzqA7N",
        "colab_type": "code",
        "colab": {
          "base_uri": "https://localhost:8080/",
          "height": 398
        },
        "outputId": "b9bec07d-71d8-4ebe-a2d0-4adec4cfde62"
      },
      "cell_type": "code",
      "source": [
        "# check unique reviewer\n",
        "u_reviewer = df['Reviewer'].unique()\n",
        "print('number of reviewers:{}'.format(len(u_reviewer)))\n",
        "\n",
        "# show histgram\n",
        "vc_reviewer = df['Reviewer'].value_counts()\n",
        "plt.hist(vc_reviewer)\n",
        "plt.xlabel(\"number of reviews\")\n",
        "plt.ylabel(\"number of reviewers\")"
      ],
      "execution_count": 115,
      "outputs": [
        {
          "output_type": "stream",
          "text": [
            "number of reviewers:419\n"
          ],
          "name": "stdout"
        },
        {
          "output_type": "execute_result",
          "data": {
            "text/plain": [
              "Text(0,0.5,'number of reviewers')"
            ]
          },
          "metadata": {
            "tags": []
          },
          "execution_count": 115
        },
        {
          "output_type": "display_data",
          "data": {
            "image/png": "[encoded data removed]",
            "text/plain": [
              "<matplotlib.figure.Figure at 0x7fbce22a1ac8>"
            ]
          },
          "metadata": {
            "tags": []
          }
        }
      ]
    },
    {
      "metadata": {
        "id": "vv7FUF8TAmUs",
        "colab_type": "text"
      },
      "cell_type": "markdown",
      "source": [
        "Majority reviewes number is under 0-5 and second one is 45-50.\n",
        "\n",
        "For limited scrayping process, 45-50 reviews shows over 50 reviews. Practically,  datas of over 50 views are exist. \n",
        "\n",
        "Then let me show how many reviewes are there each movies. "
      ]
    },
    {
      "metadata": {
        "id": "JwwaDDriqQip",
        "colab_type": "code",
        "colab": {
          "base_uri": "https://localhost:8080/",
          "height": 395
        },
        "outputId": "e17627e4-b573-4e72-cfe8-ad342af2a719"
      },
      "cell_type": "code",
      "source": [
        "u_title = df['Title'].unique()\n",
        "print('number of titles:{}'.format(len(u_title)))\n",
        "\n",
        "vc_title = df['Title'].value_counts()\n",
        "vc_title_n10_more = vc_title[vc_title>10]\n",
        "\n",
        "plt.subplot(121)\n",
        "plt.hist(vc_title)\n",
        "plt.xlabel(\"number of titles\")\n",
        "plt.ylabel(\"number of views\")\n",
        "\n",
        "plt.subplot(122)\n",
        "plt.hist(vc_title_n10_more)\n",
        "plt.xlabel(\"number of titles\")\n",
        "plt.ylabel(\"number of views\")\n"
      ],
      "execution_count": 114,
      "outputs": [
        {
          "output_type": "stream",
          "text": [
            "number of titles:4534\n"
          ],
          "name": "stdout"
        },
        {
          "output_type": "execute_result",
          "data": {
            "text/plain": [
              "Text(0,0.5,'number of views')"
            ]
          },
          "metadata": {
            "tags": []
          },
          "execution_count": 114
        },
        {
          "output_type": "display_data",
          "data": {
            "image/png": "[encoded data removed]",
            "text/plain": [
              "<matplotlib.figure.Figure at 0x7fbce21fda58>"
            ]
          },
          "metadata": {
            "tags": []
          }
        }
      ]
    },
    {
      "metadata": {
        "id": "vmsrNXgfM2NP",
        "colab_type": "text"
      },
      "cell_type": "markdown",
      "source": [
        "The left one is the all data and the right one is limited over 10 reviews. \n",
        "\n",
        "Almost movies have only under 5 reviewes. This means that people don't know many movies and attracting attention is difficult in movie industory. \n",
        "\n",
        "Now I focus on over 10 reviews movie to improve data quality. The number becomes 116 titles.\n",
        "\n"
      ]
    },
    {
      "metadata": {
        "id": "CZ7dJhT8qS6I",
        "colab_type": "code",
        "colab": {
          "base_uri": "https://localhost:8080/",
          "height": 34
        },
        "outputId": "e658cfb8-a6f9-4efe-f4b1-870666aa8e89"
      },
      "cell_type": "code",
      "source": [
        "df2 = df[df['Title'].isin(vc_title_n10_more.index)]\n",
        "u_title = df2['Title'].unique()\n",
        "print('number of titles:{}'.format(len(u_title)))"
      ],
      "execution_count": 116,
      "outputs": [
        {
          "output_type": "stream",
          "text": [
            "number of titles:116\n"
          ],
          "name": "stdout"
        }
      ]
    },
    {
      "metadata": {
        "id": "LzOorTyfPMFy",
        "colab_type": "text"
      },
      "cell_type": "markdown",
      "source": [
        "Let see content of 116 reviewes."
      ]
    },
    {
      "metadata": {
        "id": "Kb_380bUxzsH",
        "colab_type": "code",
        "colab": {
          "base_uri": "https://localhost:8080/",
          "height": 382
        },
        "outputId": "dc7e80e4-9f7a-4eb5-cde7-52ccdf08590c"
      },
      "cell_type": "code",
      "source": [
        "df2_groupby = df2.groupby('Title',as_index=False)\n",
        "mean = df2_groupby.mean()['Rate']\n",
        "std = np.sqrt(df2_groupby.var()['Rate'])\n",
        "\n",
        "plt.plot(std,mean,'bo')\n",
        "plt.xlabel('std')\n",
        "plt.ylabel('mean')\n",
        "plt.xlim([0,1]) \n",
        "plt.ylim([0,1]) "
      ],
      "execution_count": 118,
      "outputs": [
        {
          "output_type": "execute_result",
          "data": {
            "text/plain": [
              "(0, 1)"
            ]
          },
          "metadata": {
            "tags": []
          },
          "execution_count": 118
        },
        {
          "output_type": "display_data",
          "data": {
            "image/png": "[encoded data removed]",
            "text/plain": [
              "<matplotlib.figure.Figure at 0x7fbce21f05f8>"
            ]
          },
          "metadata": {
            "tags": []
          }
        }
      ]
    },
    {
      "metadata": {
        "id": "GFgAF1s9P8D6",
        "colab_type": "text"
      },
      "cell_type": "markdown",
      "source": [
        "There is inevitability to make this plot look like a half circle. \n",
        "\n",
        "Reviewers evaluate score 1(good) or 0(bad) in rotten-tomatoes. Large std means there are both scoring people who give 1 and 0. \n",
        "It can be said there are opinions on the pros and cons of this movie.\n",
        "\n",
        "Movies in Low std and high mean get high evaluation by alomost people. However, \n",
        "There may be core entries for movie enthusiasts.\n",
        "\n",
        "So let see how many reviews in same score:1. "
      ]
    },
    {
      "metadata": {
        "id": "gJxBCtGDRvDE",
        "colab_type": "code",
        "colab": {
          "base_uri": "https://localhost:8080/",
          "height": 382
        },
        "outputId": "e2bd957d-1f38-45da-90af-100c0c15dbbb"
      },
      "cell_type": "code",
      "source": [
        "n_review = df2.groupby('Title').nunique()['Reviewer']\n",
        "\n",
        "plt.plot(n_review,mean,'bo')\n",
        "plt.xlabel('number of reviews')\n",
        "plt.ylabel('mean')\n",
        "plt.ylim([0,1]) \n"
      ],
      "execution_count": 117,
      "outputs": [
        {
          "output_type": "execute_result",
          "data": {
            "text/plain": [
              "(0, 1)"
            ]
          },
          "metadata": {
            "tags": []
          },
          "execution_count": 117
        },
        {
          "output_type": "display_data",
          "data": {
            "image/png": "[encoded data removed]",
            "text/plain": [
              "<matplotlib.figure.Figure at 0x7fbce22f9908>"
            ]
          },
          "metadata": {
            "tags": []
          }
        }
      ]
    },
    {
      "metadata": {
        "id": "2_uFXHg2iTxN",
        "colab_type": "text"
      },
      "cell_type": "markdown",
      "source": [
        "In this data, there are wide range of number of reviews from 10 to 50. \n",
        "\n",
        "Genellary many reviews tend to be high score. \n",
        "\n",
        "This result is resonable because better movies attract many people."
      ]
    },
    {
      "metadata": {
        "id": "AWqrM1F84yl3",
        "colab_type": "code",
        "colab": {
          "base_uri": "https://localhost:8080/",
          "height": 1969
        },
        "outputId": "26d0b6d5-440a-402e-b6c6-82a97af50a4d"
      },
      "cell_type": "code",
      "source": [
        "title = df2_groupby.mean().sort_values('Rate', ascending=False)\n",
        "title"
      ],
      "execution_count": 103,
      "outputs": [
        {
          "output_type": "execute_result",
          "data": {
            "text/html": [
              "<div>\n",
              "<style scoped>\n",
              "    .dataframe tbody tr th:only-of-type {\n",
              "        vertical-align: middle;\n",
              "    }\n",
              "\n",
              "    .dataframe tbody tr th {\n",
              "        vertical-align: top;\n",
              "    }\n",
              "\n",
              "    .dataframe thead th {\n",
              "        text-align: right;\n",
              "    }\n",
              "</style>\n",
              "<table border=\"1\" class=\"dataframe\">\n",
              "  <thead>\n",
              "    <tr style=\"text-align: right;\">\n",
              "      <th></th>\n",
              "      <th>Title</th>\n",
              "      <th>Unnamed: 0</th>\n",
              "      <th>Rate</th>\n",
              "    </tr>\n",
              "  </thead>\n",
              "  <tbody>\n",
              "    <tr>\n",
              "      <th>32</th>\n",
              "      <td>Film Stars Don't Die in Liverpool (2017)</td>\n",
              "      <td>810.000000</td>\n",
              "      <td>1.000000</td>\n",
              "    </tr>\n",
              "    <tr>\n",
              "      <th>107</th>\n",
              "      <td>Upgrade (2018)</td>\n",
              "      <td>830.666667</td>\n",
              "      <td>1.000000</td>\n",
              "    </tr>\n",
              "    <tr>\n",
              "      <th>81</th>\n",
              "      <td>The Death of Stalin (2018)</td>\n",
              "      <td>559.000000</td>\n",
              "      <td>1.000000</td>\n",
              "    </tr>\n",
              "    <tr>\n",
              "      <th>53</th>\n",
              "      <td>Loveless (Nelyubov) (2018)</td>\n",
              "      <td>929.333333</td>\n",
              "      <td>1.000000</td>\n",
              "    </tr>\n",
              "    <tr>\n",
              "      <th>51</th>\n",
              "      <td>Leave No Trace (2018)</td>\n",
              "      <td>819.388889</td>\n",
              "      <td>1.000000</td>\n",
              "    </tr>\n",
              "    <tr>\n",
              "      <th>46</th>\n",
              "      <td>Juliet, Naked (2018)</td>\n",
              "      <td>903.250000</td>\n",
              "      <td>1.000000</td>\n",
              "    </tr>\n",
              "    <tr>\n",
              "      <th>41</th>\n",
              "      <td>I, Tonya (2018)</td>\n",
              "      <td>732.086957</td>\n",
              "      <td>1.000000</td>\n",
              "    </tr>\n",
              "    <tr>\n",
              "      <th>96</th>\n",
              "      <td>The Rider (2018)</td>\n",
              "      <td>778.857143</td>\n",
              "      <td>1.000000</td>\n",
              "    </tr>\n",
              "    <tr>\n",
              "      <th>99</th>\n",
              "      <td>The Square (2017)</td>\n",
              "      <td>550.636364</td>\n",
              "      <td>1.000000</td>\n",
              "    </tr>\n",
              "    <tr>\n",
              "      <th>29</th>\n",
              "      <td>Eighth Grade (2018)</td>\n",
              "      <td>853.611111</td>\n",
              "      <td>1.000000</td>\n",
              "    </tr>\n",
              "    <tr>\n",
              "      <th>28</th>\n",
              "      <td>Early Man (2018)</td>\n",
              "      <td>913.636364</td>\n",
              "      <td>1.000000</td>\n",
              "    </tr>\n",
              "    <tr>\n",
              "      <th>103</th>\n",
              "      <td>Three Identical Strangers (2018)</td>\n",
              "      <td>785.812500</td>\n",
              "      <td>1.000000</td>\n",
              "    </tr>\n",
              "    <tr>\n",
              "      <th>66</th>\n",
              "      <td>RBG (2018)</td>\n",
              "      <td>707.166667</td>\n",
              "      <td>1.000000</td>\n",
              "    </tr>\n",
              "    <tr>\n",
              "      <th>113</th>\n",
              "      <td>Wonder Woman (2017)</td>\n",
              "      <td>676.538462</td>\n",
              "      <td>1.000000</td>\n",
              "    </tr>\n",
              "    <tr>\n",
              "      <th>111</th>\n",
              "      <td>Won't You Be My Neighbor? (2018)</td>\n",
              "      <td>644.941176</td>\n",
              "      <td>1.000000</td>\n",
              "    </tr>\n",
              "    <tr>\n",
              "      <th>11</th>\n",
              "      <td>BlacKkKlansman (2018)</td>\n",
              "      <td>651.371429</td>\n",
              "      <td>1.000000</td>\n",
              "    </tr>\n",
              "    <tr>\n",
              "      <th>12</th>\n",
              "      <td>Black Panther (2018)</td>\n",
              "      <td>817.727273</td>\n",
              "      <td>0.969697</td>\n",
              "    </tr>\n",
              "    <tr>\n",
              "      <th>43</th>\n",
              "      <td>Incredibles 2 (2018)</td>\n",
              "      <td>694.730769</td>\n",
              "      <td>0.961538</td>\n",
              "    </tr>\n",
              "    <tr>\n",
              "      <th>1</th>\n",
              "      <td>A Quiet Place (2018)</td>\n",
              "      <td>731.652174</td>\n",
              "      <td>0.956522</td>\n",
              "    </tr>\n",
              "    <tr>\n",
              "      <th>50</th>\n",
              "      <td>Lady Bird (2017)</td>\n",
              "      <td>733.904762</td>\n",
              "      <td>0.952381</td>\n",
              "    </tr>\n",
              "    <tr>\n",
              "      <th>101</th>\n",
              "      <td>Thor: Ragnarok (2017)</td>\n",
              "      <td>883.052632</td>\n",
              "      <td>0.947368</td>\n",
              "    </tr>\n",
              "    <tr>\n",
              "      <th>94</th>\n",
              "      <td>The Post (2018)</td>\n",
              "      <td>871.277778</td>\n",
              "      <td>0.944444</td>\n",
              "    </tr>\n",
              "    <tr>\n",
              "      <th>6</th>\n",
              "      <td>Annihilation (2018)</td>\n",
              "      <td>938.823529</td>\n",
              "      <td>0.941176</td>\n",
              "    </tr>\n",
              "    <tr>\n",
              "      <th>105</th>\n",
              "      <td>Tully (2018)</td>\n",
              "      <td>629.352941</td>\n",
              "      <td>0.941176</td>\n",
              "    </tr>\n",
              "    <tr>\n",
              "      <th>74</th>\n",
              "      <td>Sorry to Bother You (2018)</td>\n",
              "      <td>825.176471</td>\n",
              "      <td>0.941176</td>\n",
              "    </tr>\n",
              "    <tr>\n",
              "      <th>87</th>\n",
              "      <td>The Killing of a Sacred Deer (2017)</td>\n",
              "      <td>682.470588</td>\n",
              "      <td>0.941176</td>\n",
              "    </tr>\n",
              "    <tr>\n",
              "      <th>57</th>\n",
              "      <td>Mission: Impossible - Fallout (2018)</td>\n",
              "      <td>701.360000</td>\n",
              "      <td>0.940000</td>\n",
              "    </tr>\n",
              "    <tr>\n",
              "      <th>35</th>\n",
              "      <td>Guardians of the Galaxy Vol. 2 (2017)</td>\n",
              "      <td>788.600000</td>\n",
              "      <td>0.933333</td>\n",
              "    </tr>\n",
              "    <tr>\n",
              "      <th>20</th>\n",
              "      <td>Crazy Rich Asians (2018)</td>\n",
              "      <td>765.500000</td>\n",
              "      <td>0.933333</td>\n",
              "    </tr>\n",
              "    <tr>\n",
              "      <th>27</th>\n",
              "      <td>Dunkirk (2017)</td>\n",
              "      <td>838.066667</td>\n",
              "      <td>0.933333</td>\n",
              "    </tr>\n",
              "    <tr>\n",
              "      <th>...</th>\n",
              "      <td>...</td>\n",
              "      <td>...</td>\n",
              "      <td>...</td>\n",
              "    </tr>\n",
              "    <tr>\n",
              "      <th>71</th>\n",
              "      <td>Sicario: Day of the Soldado (2018)</td>\n",
              "      <td>856.450000</td>\n",
              "      <td>0.600000</td>\n",
              "    </tr>\n",
              "    <tr>\n",
              "      <th>15</th>\n",
              "      <td>Book Club (2018)</td>\n",
              "      <td>636.705882</td>\n",
              "      <td>0.588235</td>\n",
              "    </tr>\n",
              "    <tr>\n",
              "      <th>49</th>\n",
              "      <td>Kingsman: The Golden Circle (2017)</td>\n",
              "      <td>827.571429</td>\n",
              "      <td>0.571429</td>\n",
              "    </tr>\n",
              "    <tr>\n",
              "      <th>109</th>\n",
              "      <td>White Boy Rick (2018)</td>\n",
              "      <td>833.714286</td>\n",
              "      <td>0.571429</td>\n",
              "    </tr>\n",
              "    <tr>\n",
              "      <th>48</th>\n",
              "      <td>Justice League (2017)</td>\n",
              "      <td>924.777778</td>\n",
              "      <td>0.555556</td>\n",
              "    </tr>\n",
              "    <tr>\n",
              "      <th>89</th>\n",
              "      <td>The Little Stranger (2018)</td>\n",
              "      <td>691.000000</td>\n",
              "      <td>0.555556</td>\n",
              "    </tr>\n",
              "    <tr>\n",
              "      <th>26</th>\n",
              "      <td>Downsizing (2017)</td>\n",
              "      <td>651.545455</td>\n",
              "      <td>0.545455</td>\n",
              "    </tr>\n",
              "    <tr>\n",
              "      <th>30</th>\n",
              "      <td>Equalizer 2 (2018)</td>\n",
              "      <td>805.650000</td>\n",
              "      <td>0.500000</td>\n",
              "    </tr>\n",
              "    <tr>\n",
              "      <th>54</th>\n",
              "      <td>Mamma Mia! Here We Go Again (2018)</td>\n",
              "      <td>709.136364</td>\n",
              "      <td>0.500000</td>\n",
              "    </tr>\n",
              "    <tr>\n",
              "      <th>47</th>\n",
              "      <td>Jurassic World: Fallen Kingdom (2018)</td>\n",
              "      <td>758.323529</td>\n",
              "      <td>0.500000</td>\n",
              "    </tr>\n",
              "    <tr>\n",
              "      <th>90</th>\n",
              "      <td>The Meg (2018)</td>\n",
              "      <td>795.428571</td>\n",
              "      <td>0.476190</td>\n",
              "    </tr>\n",
              "    <tr>\n",
              "      <th>104</th>\n",
              "      <td>Tomb Raider (2018)</td>\n",
              "      <td>737.894737</td>\n",
              "      <td>0.473684</td>\n",
              "    </tr>\n",
              "    <tr>\n",
              "      <th>98</th>\n",
              "      <td>The Spy Who Dumped Me (2018)</td>\n",
              "      <td>638.086957</td>\n",
              "      <td>0.434783</td>\n",
              "    </tr>\n",
              "    <tr>\n",
              "      <th>3</th>\n",
              "      <td>A Wrinkle in Time (2018)</td>\n",
              "      <td>729.736842</td>\n",
              "      <td>0.421053</td>\n",
              "    </tr>\n",
              "    <tr>\n",
              "      <th>72</th>\n",
              "      <td>Skyscraper (2018)</td>\n",
              "      <td>694.631579</td>\n",
              "      <td>0.421053</td>\n",
              "    </tr>\n",
              "    <tr>\n",
              "      <th>69</th>\n",
              "      <td>Red Sparrow (2018)</td>\n",
              "      <td>662.352941</td>\n",
              "      <td>0.411765</td>\n",
              "    </tr>\n",
              "    <tr>\n",
              "      <th>85</th>\n",
              "      <td>The Happytime Murders (2018)</td>\n",
              "      <td>837.531250</td>\n",
              "      <td>0.406250</td>\n",
              "    </tr>\n",
              "    <tr>\n",
              "      <th>21</th>\n",
              "      <td>Damsel (2018)</td>\n",
              "      <td>811.615385</td>\n",
              "      <td>0.384615</td>\n",
              "    </tr>\n",
              "    <tr>\n",
              "      <th>60</th>\n",
              "      <td>Night School (2018)</td>\n",
              "      <td>815.153846</td>\n",
              "      <td>0.384615</td>\n",
              "    </tr>\n",
              "    <tr>\n",
              "      <th>77</th>\n",
              "      <td>Tag (2018)</td>\n",
              "      <td>736.307692</td>\n",
              "      <td>0.384615</td>\n",
              "    </tr>\n",
              "    <tr>\n",
              "      <th>95</th>\n",
              "      <td>The Predator (2018)</td>\n",
              "      <td>782.942857</td>\n",
              "      <td>0.371429</td>\n",
              "    </tr>\n",
              "    <tr>\n",
              "      <th>40</th>\n",
              "      <td>I Feel Pretty (2018)</td>\n",
              "      <td>840.875000</td>\n",
              "      <td>0.312500</td>\n",
              "    </tr>\n",
              "    <tr>\n",
              "      <th>78</th>\n",
              "      <td>The 15:17 to Paris (2018)</td>\n",
              "      <td>940.090909</td>\n",
              "      <td>0.272727</td>\n",
              "    </tr>\n",
              "    <tr>\n",
              "      <th>112</th>\n",
              "      <td>Wonder Wheel (2017)</td>\n",
              "      <td>772.333333</td>\n",
              "      <td>0.250000</td>\n",
              "    </tr>\n",
              "    <tr>\n",
              "      <th>56</th>\n",
              "      <td>Mile 22 (2018)</td>\n",
              "      <td>697.550000</td>\n",
              "      <td>0.200000</td>\n",
              "    </tr>\n",
              "    <tr>\n",
              "      <th>93</th>\n",
              "      <td>The Nun (2018)</td>\n",
              "      <td>963.666667</td>\n",
              "      <td>0.200000</td>\n",
              "    </tr>\n",
              "    <tr>\n",
              "      <th>0</th>\n",
              "      <td>7 Days in Entebbe (2018)</td>\n",
              "      <td>920.090909</td>\n",
              "      <td>0.181818</td>\n",
              "    </tr>\n",
              "    <tr>\n",
              "      <th>80</th>\n",
              "      <td>The Darkest Minds (2018)</td>\n",
              "      <td>673.500000</td>\n",
              "      <td>0.083333</td>\n",
              "    </tr>\n",
              "    <tr>\n",
              "      <th>92</th>\n",
              "      <td>The Mummy (2017)</td>\n",
              "      <td>763.000000</td>\n",
              "      <td>0.083333</td>\n",
              "    </tr>\n",
              "    <tr>\n",
              "      <th>14</th>\n",
              "      <td>Blumhouse's Truth or Dare (2018)</td>\n",
              "      <td>917.285714</td>\n",
              "      <td>0.071429</td>\n",
              "    </tr>\n",
              "  </tbody>\n",
              "</table>\n",
              "<p>116 rows × 3 columns</p>\n",
              "</div>"
            ],
            "text/plain": [
              "                                        Title  Unnamed: 0      Rate\n",
              "32   Film Stars Don't Die in Liverpool (2017)  810.000000  1.000000\n",
              "107                            Upgrade (2018)  830.666667  1.000000\n",
              "81                 The Death of Stalin (2018)  559.000000  1.000000\n",
              "53                 Loveless (Nelyubov) (2018)  929.333333  1.000000\n",
              "51                      Leave No Trace (2018)  819.388889  1.000000\n",
              "46                       Juliet, Naked (2018)  903.250000  1.000000\n",
              "41                            I, Tonya (2018)  732.086957  1.000000\n",
              "96                           The Rider (2018)  778.857143  1.000000\n",
              "99                          The Square (2017)  550.636364  1.000000\n",
              "29                        Eighth Grade (2018)  853.611111  1.000000\n",
              "28                           Early Man (2018)  913.636364  1.000000\n",
              "103          Three Identical Strangers (2018)  785.812500  1.000000\n",
              "66                                 RBG (2018)  707.166667  1.000000\n",
              "113                       Wonder Woman (2017)  676.538462  1.000000\n",
              "111          Won't You Be My Neighbor? (2018)  644.941176  1.000000\n",
              "11                      BlacKkKlansman (2018)  651.371429  1.000000\n",
              "12                       Black Panther (2018)  817.727273  0.969697\n",
              "43                       Incredibles 2 (2018)  694.730769  0.961538\n",
              "1                        A Quiet Place (2018)  731.652174  0.956522\n",
              "50                           Lady Bird (2017)  733.904762  0.952381\n",
              "101                     Thor: Ragnarok (2017)  883.052632  0.947368\n",
              "94                            The Post (2018)  871.277778  0.944444\n",
              "6                         Annihilation (2018)  938.823529  0.941176\n",
              "105                              Tully (2018)  629.352941  0.941176\n",
              "74                 Sorry to Bother You (2018)  825.176471  0.941176\n",
              "87        The Killing of a Sacred Deer (2017)  682.470588  0.941176\n",
              "57       Mission: Impossible - Fallout (2018)  701.360000  0.940000\n",
              "35      Guardians of the Galaxy Vol. 2 (2017)  788.600000  0.933333\n",
              "20                   Crazy Rich Asians (2018)  765.500000  0.933333\n",
              "27                             Dunkirk (2017)  838.066667  0.933333\n",
              "..                                        ...         ...       ...\n",
              "71         Sicario: Day of the Soldado (2018)  856.450000  0.600000\n",
              "15                           Book Club (2018)  636.705882  0.588235\n",
              "49         Kingsman: The Golden Circle (2017)  827.571429  0.571429\n",
              "109                     White Boy Rick (2018)  833.714286  0.571429\n",
              "48                      Justice League (2017)  924.777778  0.555556\n",
              "89                 The Little Stranger (2018)  691.000000  0.555556\n",
              "26                          Downsizing (2017)  651.545455  0.545455\n",
              "30                         Equalizer 2 (2018)  805.650000  0.500000\n",
              "54         Mamma Mia! Here We Go Again (2018)  709.136364  0.500000\n",
              "47      Jurassic World: Fallen Kingdom (2018)  758.323529  0.500000\n",
              "90                             The Meg (2018)  795.428571  0.476190\n",
              "104                        Tomb Raider (2018)  737.894737  0.473684\n",
              "98               The Spy Who Dumped Me (2018)  638.086957  0.434783\n",
              "3                    A Wrinkle in Time (2018)  729.736842  0.421053\n",
              "72                          Skyscraper (2018)  694.631579  0.421053\n",
              "69                         Red Sparrow (2018)  662.352941  0.411765\n",
              "85               The Happytime Murders (2018)  837.531250  0.406250\n",
              "21                              Damsel (2018)  811.615385  0.384615\n",
              "60                        Night School (2018)  815.153846  0.384615\n",
              "77                                 Tag (2018)  736.307692  0.384615\n",
              "95                        The Predator (2018)  782.942857  0.371429\n",
              "40                       I Feel Pretty (2018)  840.875000  0.312500\n",
              "78                  The 15:17 to Paris (2018)  940.090909  0.272727\n",
              "112                       Wonder Wheel (2017)  772.333333  0.250000\n",
              "56                             Mile 22 (2018)  697.550000  0.200000\n",
              "93                             The Nun (2018)  963.666667  0.200000\n",
              "0                    7 Days in Entebbe (2018)  920.090909  0.181818\n",
              "80                   The Darkest Minds (2018)  673.500000  0.083333\n",
              "92                           The Mummy (2017)  763.000000  0.083333\n",
              "14           Blumhouse's Truth or Dare (2018)  917.285714  0.071429\n",
              "\n",
              "[116 rows x 3 columns]"
            ]
          },
          "metadata": {
            "tags": []
          },
          "execution_count": 103
        }
      ]
    },
    {
      "metadata": {
        "id": "NrLcrBTZpqvc",
        "colab_type": "text"
      },
      "cell_type": "markdown",
      "source": [
        "In next file, I will analyse cluster analysis include me and recommend personal good movies."
      ]
    }
  ]
}